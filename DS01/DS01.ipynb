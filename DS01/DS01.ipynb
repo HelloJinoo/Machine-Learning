{
 "cells": [
  {
   "cell_type": "code",
   "execution_count": 2,
   "metadata": {},
   "outputs": [],
   "source": [
    "import pandas as pd\n",
    "import datetime"
   ]
  },
  {
   "cell_type": "markdown",
   "metadata": {},
   "source": [
    "# 1. Data load"
   ]
  },
  {
   "cell_type": "code",
   "execution_count": 3,
   "metadata": {},
   "outputs": [],
   "source": [
    "\n",
    "tashu = pd.read_csv('data/tashu.csv' )\n",
    "weather = pd.read_csv('data/weather.csv' )\n",
    "station = pd.read_csv('data/station.csv' )\n",
    "temp_weather = weather\n",
    "temp_tashu = tashu"
   ]
  },
  {
   "cell_type": "code",
   "execution_count": 4,
   "metadata": {},
   "outputs": [],
   "source": [
    "#to_Datetime\n",
    "temp_tashu['RENT_DATE']= pd.to_datetime(temp_tashu['RENT_DATE'])\n",
    "temp_tashu['RETURN_DATE']= pd.to_datetime(temp_tashu['RETURN_DATE'])"
   ]
  },
  {
   "cell_type": "code",
   "execution_count": 5,
   "metadata": {},
   "outputs": [],
   "source": [
    "#tashu rentdate -> year , month, hour, weekday\n",
    "\n",
    "#rent\n",
    "rent_year = []\n",
    "rent_month = []\n",
    "rent_day = []\n",
    "rent_hour = []\n",
    "rent_weekday = []\n",
    "\n",
    "for i in temp_tashu['RENT_DATE'] :\n",
    "    rent_year.append(i.year)\n",
    "    rent_month.append(i.month)\n",
    "    rent_day.append(i.day)\n",
    "    rent_hour.append(i.hour)\n",
    "    rent_weekday.append(i.weekday())\n",
    "    \n",
    "    \n",
    "temp_tashu['RENT_YEAR'] = rent_year\n",
    "temp_tashu['RENT_MONTH'] = rent_month\n",
    "temp_tashu['RENT_DAY'] = rent_day\n",
    "temp_tashu['RENT_HOUR'] = rent_hour\n",
    "temp_tashu['RENT_WEEKDAY'] = rent_weekday\n",
    "\n",
    "\n",
    "\n",
    "\n"
   ]
  },
  {
   "cell_type": "code",
   "execution_count": 6,
   "metadata": {},
   "outputs": [],
   "source": [
    "#tashu returndate -> year , month, hour, weekday\n",
    "\n",
    "return_year = []\n",
    "return_month = []\n",
    "return_day = []\n",
    "return_hour = []\n",
    "return_weekday = []\n",
    "\n",
    "for j in temp_tashu['RETURN_DATE'] : \n",
    "    return_year.append(j.year)\n",
    "    return_month.append(j.month)\n",
    "    return_day.append(j.day)\n",
    "    return_hour.append(j.hour)\n",
    "    return_weekday.append(j.weekday())\n",
    "    \n",
    "temp_tashu['RETURN_YEAR'] = return_year\n",
    "temp_tashu['RETURN_MONTH'] = return_month\n",
    "temp_tashu['RETURN_DAY'] = return_day\n",
    "temp_tashu['RETURN_HOUR'] = return_hour\n",
    "temp_tashu['RETURN_WEEKDAY'] = return_weekday"
   ]
  },
  {
   "cell_type": "code",
   "execution_count": 7,
   "metadata": {},
   "outputs": [],
   "source": [
    "del temp_tashu['RETURN_DATE']\n",
    "del temp_tashu['RENT_DATE']"
   ]
  },
  {
   "cell_type": "code",
   "execution_count": 8,
   "metadata": {
    "scrolled": true
   },
   "outputs": [],
   "source": [
    "#Time -> YEAR , MONTH, DAY , HOUR , WEEKDAY\n",
    "temp_weather['TIME']= pd.to_datetime(temp_weather['TIME'])\n",
    "year = []\n",
    "month = []\n",
    "day = []\n",
    "hour = []\n",
    "weekday = []\n",
    "for i in temp_weather['TIME'] :\n",
    "    year.append(i.year)\n",
    "    month.append(i.month)\n",
    "    day.append(i.day)\n",
    "    hour.append(i.hour)\n",
    "    weekday.append(i.weekday())\n",
    "temp_weather['YEAR'] = year\n",
    "temp_weather['MONTH'] = month\n",
    "temp_weather['DAY'] = day\n",
    "temp_weather['HOUR'] = hour\n",
    "temp_weather['WEEKDAY'] = weekday\n",
    "\n"
   ]
  },
  {
   "cell_type": "code",
   "execution_count": 9,
   "metadata": {},
   "outputs": [],
   "source": [
    "del temp_weather['TIME']\n"
   ]
  },
  {
   "cell_type": "code",
   "execution_count": 12,
   "metadata": {},
   "outputs": [],
   "source": [
    "from pandas import DataFrame\n",
    "station_num = DataFrame(station['번호'])"
   ]
  },
  {
   "cell_type": "code",
   "execution_count": 10,
   "metadata": {},
   "outputs": [],
   "source": [
    "import itertools\n",
    "\n",
    "def cartesian(df1, df2):\n",
    "    rows = itertools.product(df1.iterrows(), df2.iterrows())\n",
    "\n",
    "    df = pd.DataFrame(left.append(right) for (_, left), (_, right) in rows)\n",
    "    return df.reset_index(drop=True)"
   ]
  },
  {
   "cell_type": "code",
   "execution_count": 11,
   "metadata": {},
   "outputs": [],
   "source": [
    "def df_crossjoin(df1, df2, **kwargs):\n",
    "    \n",
    "    df1['_tmpkey'] = 1\n",
    "    df2['_tmpkey'] = 1\n",
    "\n",
    "    res = pd.merge(df1, df2, on='_tmpkey', **kwargs).drop('_tmpkey', axis=1)\n",
    "    res.index = pd.MultiIndex.from_product((df1.index, df2.index))\n",
    "\n",
    "    df1.drop('_tmpkey', axis=1, inplace=True)\n",
    "    df2.drop('_tmpkey', axis=1, inplace=True)\n",
    "\n",
    "    return res"
   ]
  },
  {
   "cell_type": "code",
   "execution_count": null,
   "metadata": {},
   "outputs": [],
   "source": [
    "df_crossjoin(station_num , temp_weather)"
   ]
  },
  {
   "cell_type": "code",
   "execution_count": null,
   "metadata": {},
   "outputs": [],
   "source": []
  },
  {
   "cell_type": "code",
   "execution_count": null,
   "metadata": {},
   "outputs": [],
   "source": []
  }
 ],
 "metadata": {
  "kernelspec": {
   "display_name": "Python 3",
   "language": "python",
   "name": "python3"
  },
  "language_info": {
   "codemirror_mode": {
    "name": "ipython",
    "version": 3
   },
   "file_extension": ".py",
   "mimetype": "text/x-python",
   "name": "python",
   "nbconvert_exporter": "python",
   "pygments_lexer": "ipython3",
   "version": "3.7.3"
  }
 },
 "nbformat": 4,
 "nbformat_minor": 2
}
