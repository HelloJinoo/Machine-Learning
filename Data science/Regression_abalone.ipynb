{
 "cells": [
  {
   "cell_type": "code",
   "execution_count": 196,
   "metadata": {},
   "outputs": [],
   "source": [
    "from os.path import join\n",
    "import numpy as np\n",
    "\n",
    "from sklearn import linear_model\n",
    "from sklearn.metrics import r2_score\n",
    "\n",
    "import matplotlib.pyplot as plt\n",
    "from mpl_toolkits.mplot3d import Axes3D\n",
    "import pandas as pd\n",
    "from pandas.plotting import scatter_matrix\n",
    "\n",
    "from sklearn.model_selection import train_test_split\n",
    "\n",
    "from sklearn.tree import DecisionTreeRegressor\n"
   ]
  },
  {
   "cell_type": "markdown",
   "metadata": {},
   "source": [
    "## 1. 데이터 불러오기"
   ]
  },
  {
   "cell_type": "code",
   "execution_count": 197,
   "metadata": {},
   "outputs": [],
   "source": [
    "datapath = join('data','abalone.txt')\n",
    "labelpath = join('data','abalone_attributes.txt')\n",
    "\n",
    "#txt파일 읽기\n",
    "columns = list()\n",
    "with open(labelpath, 'r') as f:\n",
    "    columns = f.read().split('\\n')\n",
    "    \n",
    "# cloumns = attribute    \n",
    "df = pd.read_csv(datapath, names = columns)\n",
    "del df['Sex']\n",
    "\n",
    "Y = df['Rings']\n",
    "del df['Rings']\n",
    "\n",
    "X = df"
   ]
  },
  {
   "cell_type": "code",
   "execution_count": 198,
   "metadata": {},
   "outputs": [
    {
     "data": {
      "text/html": [
       "<div>\n",
       "<style scoped>\n",
       "    .dataframe tbody tr th:only-of-type {\n",
       "        vertical-align: middle;\n",
       "    }\n",
       "\n",
       "    .dataframe tbody tr th {\n",
       "        vertical-align: top;\n",
       "    }\n",
       "\n",
       "    .dataframe thead th {\n",
       "        text-align: right;\n",
       "    }\n",
       "</style>\n",
       "<table border=\"1\" class=\"dataframe\">\n",
       "  <thead>\n",
       "    <tr style=\"text-align: right;\">\n",
       "      <th></th>\n",
       "      <th>Length</th>\n",
       "      <th>Diameter</th>\n",
       "      <th>Height</th>\n",
       "      <th>Whole weight</th>\n",
       "      <th>Shucked weight</th>\n",
       "      <th>Viscera weight</th>\n",
       "      <th>Shell weight</th>\n",
       "    </tr>\n",
       "  </thead>\n",
       "  <tbody>\n",
       "    <tr>\n",
       "      <th>0</th>\n",
       "      <td>0.455</td>\n",
       "      <td>0.365</td>\n",
       "      <td>0.095</td>\n",
       "      <td>0.5140</td>\n",
       "      <td>0.2245</td>\n",
       "      <td>0.1010</td>\n",
       "      <td>0.150</td>\n",
       "    </tr>\n",
       "    <tr>\n",
       "      <th>1</th>\n",
       "      <td>0.350</td>\n",
       "      <td>0.265</td>\n",
       "      <td>0.090</td>\n",
       "      <td>0.2255</td>\n",
       "      <td>0.0995</td>\n",
       "      <td>0.0485</td>\n",
       "      <td>0.070</td>\n",
       "    </tr>\n",
       "    <tr>\n",
       "      <th>2</th>\n",
       "      <td>0.530</td>\n",
       "      <td>0.420</td>\n",
       "      <td>0.135</td>\n",
       "      <td>0.6770</td>\n",
       "      <td>0.2565</td>\n",
       "      <td>0.1415</td>\n",
       "      <td>0.210</td>\n",
       "    </tr>\n",
       "    <tr>\n",
       "      <th>3</th>\n",
       "      <td>0.440</td>\n",
       "      <td>0.365</td>\n",
       "      <td>0.125</td>\n",
       "      <td>0.5160</td>\n",
       "      <td>0.2155</td>\n",
       "      <td>0.1140</td>\n",
       "      <td>0.155</td>\n",
       "    </tr>\n",
       "    <tr>\n",
       "      <th>4</th>\n",
       "      <td>0.330</td>\n",
       "      <td>0.255</td>\n",
       "      <td>0.080</td>\n",
       "      <td>0.2050</td>\n",
       "      <td>0.0895</td>\n",
       "      <td>0.0395</td>\n",
       "      <td>0.055</td>\n",
       "    </tr>\n",
       "  </tbody>\n",
       "</table>\n",
       "</div>"
      ],
      "text/plain": [
       "   Length  Diameter  Height  Whole weight  Shucked weight  Viscera weight  \\\n",
       "0   0.455     0.365   0.095        0.5140          0.2245          0.1010   \n",
       "1   0.350     0.265   0.090        0.2255          0.0995          0.0485   \n",
       "2   0.530     0.420   0.135        0.6770          0.2565          0.1415   \n",
       "3   0.440     0.365   0.125        0.5160          0.2155          0.1140   \n",
       "4   0.330     0.255   0.080        0.2050          0.0895          0.0395   \n",
       "\n",
       "   Shell weight  \n",
       "0         0.150  \n",
       "1         0.070  \n",
       "2         0.210  \n",
       "3         0.155  \n",
       "4         0.055  "
      ]
     },
     "execution_count": 198,
     "metadata": {},
     "output_type": "execute_result"
    }
   ],
   "source": [
    "X.head()"
   ]
  },
  {
   "cell_type": "code",
   "execution_count": 199,
   "metadata": {},
   "outputs": [
    {
     "data": {
      "image/png": "[encoded data removed]",
      "text/plain": [
       "<Figure size 720x1080 with 9 Axes>"
      ]
     },
     "metadata": {
      "needs_background": "light"
     },
     "output_type": "display_data"
    }
   ],
   "source": [
    "X.hist(bins = 20, figsize=(10, 15))\n",
    "plt.show()"
   ]
  },
  {
   "cell_type": "markdown",
   "metadata": {},
   "source": [
    "# 2. Train, Testset 분류"
   ]
  },
  {
   "cell_type": "code",
   "execution_count": 201,
   "metadata": {},
   "outputs": [],
   "source": [
    "X_train, X_test, Y_train, Y_test = train_test_split(X, Y, test_size=0.3, random_state = 1)"
   ]
  },
  {
   "cell_type": "markdown",
   "metadata": {},
   "source": [
    "# 3. Regression "
   ]
  },
  {
   "cell_type": "markdown",
   "metadata": {},
   "source": [
    "## 3.1 LinearRegression"
   ]
  },
  {
   "cell_type": "markdown",
   "metadata": {},
   "source": [
    "### 3.1.1 Model"
   ]
  },
  {
   "cell_type": "code",
   "execution_count": 202,
   "metadata": {},
   "outputs": [],
   "source": [
    "# 선형회귀 추정기 생성\n",
    "lr = linear_model.LinearRegression() \n",
    "lr = lr.fit(X_train, Y_train)\n",
    "\n",
    "# 회귀식으로 데이터의 결과 추정\n",
    "lr_Y_pred = lr.predict(X_test)"
   ]
  },
  {
   "cell_type": "code",
   "execution_count": 203,
   "metadata": {},
   "outputs": [
    {
     "name": "stdout",
     "output_type": "stream",
     "text": [
      "R2 score: 0.51\n"
     ]
    }
   ],
   "source": [
    "# R2 scroe\n",
    "print('R2 score: %.2f' % r2_score(Y_test, lr_Y_pred))"
   ]
  },
  {
   "cell_type": "markdown",
   "metadata": {},
   "source": [
    "### 3.1.2 시각화"
   ]
  },
  {
   "cell_type": "code",
   "execution_count": 204,
   "metadata": {},
   "outputs": [
    {
     "name": "stdout",
     "output_type": "stream",
     "text": [
      "[128612.6818361]\n"
     ]
    },
    {
     "data": {
      "image/png": "[encoded data removed]",
      "text/plain": [
       "<Figure size 432x288 with 1 Axes>"
      ]
     },
     "metadata": {
      "needs_background": "light"
     },
     "output_type": "display_data"
    }
   ],
   "source": [
    "plt.scatter(x=Y_test, y=lr_Y_pred)\n",
    "plt.xlabel('Y_test')\n",
    "plt.ylabel('lr_Y_pred')\n",
    "print(np.correlate(Y_test, lr_Y_pred))"
   ]
  },
  {
   "cell_type": "markdown",
   "metadata": {},
   "source": [
    "## 3.2 DecisionTreeRgression"
   ]
  },
  {
   "cell_type": "markdown",
   "metadata": {},
   "source": [
    "### 3.2.1 Model"
   ]
  },
  {
   "cell_type": "code",
   "execution_count": 205,
   "metadata": {},
   "outputs": [],
   "source": [
    "# 결정트리 회귀 모델 생성\n",
    "tr = DecisionTreeRegressor(max_depth=4)"
   ]
  },
  {
   "cell_type": "code",
   "execution_count": 206,
   "metadata": {},
   "outputs": [],
   "source": [
    "tr.fit(X_train, Y_train)\n",
    "tr_Y_pred = tr.predict(X_test)"
   ]
  },
  {
   "cell_type": "code",
   "execution_count": 207,
   "metadata": {},
   "outputs": [
    {
     "name": "stdout",
     "output_type": "stream",
     "text": [
      "R2 score: 0.42\n"
     ]
    }
   ],
   "source": [
    "print('R2 score: %.2f' % r2_score(Y_test, tr_Y_pred))"
   ]
  },
  {
   "cell_type": "markdown",
   "metadata": {},
   "source": [
    "### 3.2.2 시각화"
   ]
  },
  {
   "cell_type": "code",
   "execution_count": 208,
   "metadata": {},
   "outputs": [
    {
     "name": "stdout",
     "output_type": "stream",
     "text": [
      "4\n",
      "16\n",
      "31\n"
     ]
    }
   ],
   "source": [
    "\n",
    "n_nodes = tr.tree_.node_count\n",
    "children_left = tr.tree_.children_left\n",
    "children_right = tr.tree_.children_right\n",
    "feature = tr.tree_.feature\n",
    "threshold = tr.tree_.threshold\n",
    "\n",
    "#node_depth = 모든 분기의 깊이\n",
    "#is_leaves = 해당 분기의 잎파리 노드 여부\n",
    "#leaves_count = 잎파리 노드의 수\n",
    "\n",
    "node_depth = np.zeros(shape=n_nodes, dtype=np.int64)\n",
    "is_leaves = np.zeros(shape=n_nodes, dtype=bool)\n",
    "leaves_count = 0\n",
    "#첫번째 분기의 ID는 -1이기 때문에 -1을 가진 stack 생성\n",
    "stack = [(0, -1)]\n",
    "\n",
    "#모든 분기를 순회하며 해당 분기의 깊이, 잎파리 여부를 파악\n",
    "#전체 잎파리 노드의 수 조사\n",
    "while len(stack) > 0:\n",
    "    node_id, parent_depth = stack.pop()\n",
    "    node_depth[node_id] = parent_depth + 1\n",
    "\n",
    "    if (children_left[node_id] != children_right[node_id]):\n",
    "        stack.append((children_left[node_id], parent_depth + 1))\n",
    "        stack.append((children_right[node_id], parent_depth + 1))\n",
    "    else:\n",
    "        is_leaves[node_id] = True\n",
    "        leaves_count += 1\n",
    "        \n",
    "print(np.max(node_depth))\n",
    "print(leaves_count)\n",
    "print(n_nodes)"
   ]
  },
  {
   "cell_type": "code",
   "execution_count": 209,
   "metadata": {
    "scrolled": true
   },
   "outputs": [
    {
     "name": "stdout",
     "output_type": "stream",
     "text": [
      "node=0 test node: go to node 1 if X[:, 6] <= 0.16775000095367432 else to node 16.\n",
      "\tnode=1 test node: go to node 2 if X[:, 6] <= 0.0677500031888485 else to node 9.\n",
      "\t\tnode=2 test node: go to node 3 if X[:, 0] <= 0.26249998807907104 else to node 6.\n",
      "\t\t\tnode=3 test node: go to node 4 if X[:, 5] <= 0.010249999817460775 else to node 5.\n",
      "\t\t\t\tnode=4 leaf node.\n",
      "\t\t\t\tnode=5 leaf node.\n",
      "\t\t\tnode=6 test node: go to node 7 if X[:, 1] <= 0.2224999964237213 else to node 8.\n",
      "\t\t\t\tnode=7 leaf node.\n",
      "\t\t\t\tnode=8 leaf node.\n",
      "\t\tnode=9 test node: go to node 10 if X[:, 6] <= 0.11175000295042992 else to node 13.\n",
      "\t\t\tnode=10 test node: go to node 11 if X[:, 4] <= 0.10775000229477882 else to node 12.\n",
      "\t\t\t\tnode=11 leaf node.\n",
      "\t\t\t\tnode=12 leaf node.\n",
      "\t\t\tnode=13 test node: go to node 14 if X[:, 4] <= 0.23224999755620956 else to node 15.\n",
      "\t\t\t\tnode=14 leaf node.\n",
      "\t\t\t\tnode=15 leaf node.\n",
      "\tnode=16 test node: go to node 17 if X[:, 6] <= 0.349250003695488 else to node 24.\n",
      "\t\tnode=17 test node: go to node 18 if X[:, 4] <= 0.30425000190734863 else to node 21.\n",
      "\t\t\tnode=18 test node: go to node 19 if X[:, 3] <= 0.734250009059906 else to node 20.\n",
      "\t\t\t\tnode=19 leaf node.\n",
      "\t\t\t\tnode=20 leaf node.\n",
      "\t\t\tnode=21 test node: go to node 22 if X[:, 6] <= 0.25450000166893005 else to node 23.\n",
      "\t\t\t\tnode=22 leaf node.\n",
      "\t\t\t\tnode=23 leaf node.\n",
      "\t\tnode=24 test node: go to node 25 if X[:, 6] <= 0.5232499837875366 else to node 28.\n",
      "\t\t\tnode=25 test node: go to node 26 if X[:, 4] <= 0.4402499943971634 else to node 27.\n",
      "\t\t\t\tnode=26 leaf node.\n",
      "\t\t\t\tnode=27 leaf node.\n",
      "\t\t\tnode=28 test node: go to node 29 if X[:, 4] <= 0.7700000107288361 else to node 30.\n",
      "\t\t\t\tnode=29 leaf node.\n",
      "\t\t\t\tnode=30 leaf node.\n"
     ]
    }
   ],
   "source": [
    "#모든 분기의 정보를 출력\n",
    "#tab을 활용하여 깊이를 확인할 수 있으며 각 분기가 어떤 변수의 어떤 값을 기준으로 이루어졌는지 확인할 수 있다.\n",
    "for i in range(n_nodes):\n",
    "    if is_leaves[i]:\n",
    "        print(\"%snode=%s leaf node.\" % (node_depth[i] * \"\\t\", i))\n",
    "    else:\n",
    "        print(\"%snode=%s test node: go to node %s if X[:, %s] <= %s else to \"\n",
    "              \"node %s.\"\n",
    "              % (node_depth[i] * \"\\t\",\n",
    "                 i,\n",
    "                 children_left[i],\n",
    "                 feature[i],\n",
    "                 threshold[i],\n",
    "                 children_right[i],\n",
    "                 ))\n",
    "        "
   ]
  },
  {
   "cell_type": "code",
   "execution_count": 210,
   "metadata": {},
   "outputs": [
    {
     "name": "stdout",
     "output_type": "stream",
     "text": [
      "[128722.82822592]\n"
     ]
    },
    {
     "data": {
      "image/png": "[encoded data removed]",
      "text/plain": [
       "<Figure size 432x288 with 1 Axes>"
      ]
     },
     "metadata": {
      "needs_background": "light"
     },
     "output_type": "display_data"
    }
   ],
   "source": [
    "from sklearn.tree import export_graphviz\n",
    "export_graphviz(tr, out_file='DTregression_tree.dot')\n",
    "plt.scatter(x=Y_test, y=tr_Y_pred)\n",
    "print(np.correlate(Y_test, tr_Y_pred))"
   ]
  },
  {
   "attachments": {},
   "cell_type": "markdown",
   "metadata": {},
   "source": [
    "![screenmsh](./image/DT_Regression.png)"
   ]
  },
  {
   "cell_type": "markdown",
   "metadata": {},
   "source": [
    "## 3.3 KNN Regression"
   ]
  },
  {
   "cell_type": "markdown",
   "metadata": {},
   "source": [
    "### 3.3.1 Model"
   ]
  },
  {
   "cell_type": "code",
   "execution_count": 211,
   "metadata": {},
   "outputs": [
    {
     "name": "stdout",
     "output_type": "stream",
     "text": [
      "R2 score: 0.52\n"
     ]
    }
   ],
   "source": [
    "from sklearn.neighbors import KNeighborsRegressor\n",
    "k=7\n",
    "knn_re = KNeighborsRegressor(n_neighbors= k)\n",
    "knn_re.fit(X=X_train, y=Y_train)\n",
    "\n",
    "knn_re_Y_pred = knn_re.predict(X=X_test)\n",
    "\n",
    "print('R2 score: %.2f' % r2_score(Y_test, knn_re_Y_pred))"
   ]
  },
  {
   "cell_type": "markdown",
   "metadata": {},
   "source": [
    "### 4.3.2 시각화"
   ]
  },
  {
   "cell_type": "code",
   "execution_count": 212,
   "metadata": {},
   "outputs": [
    {
     "name": "stdout",
     "output_type": "stream",
     "text": [
      "[128188.85714286]\n"
     ]
    },
    {
     "data": {
      "image/png": "[encoded data removed]",
      "text/plain": [
       "<Figure size 432x288 with 1 Axes>"
      ]
     },
     "metadata": {
      "needs_background": "light"
     },
     "output_type": "display_data"
    }
   ],
   "source": [
    "plt.scatter(x=Y_test, y=knn_re_Y_pred)\n",
    "plt.xlabel('Y_test')\n",
    "plt.ylabel('knn_re_Y_pred')\n",
    "print(np.correlate(Y_test, knn_re_Y_pred))"
   ]
  }
 ],
 "metadata": {
  "kernelspec": {
   "display_name": "Python 3",
   "language": "python",
   "name": "python3"
  },
  "language_info": {
   "codemirror_mode": {
    "name": "ipython",
    "version": 3
   },
   "file_extension": ".py",
   "mimetype": "text/x-python",
   "name": "python",
   "nbconvert_exporter": "python",
   "pygments_lexer": "ipython3",
   "version": "3.6.8"
  }
 },
 "nbformat": 4,
 "nbformat_minor": 2
}
