{
 "cells": [
  {
   "cell_type": "code",
   "execution_count": 21,
   "metadata": {},
   "outputs": [],
   "source": [
    "import tensorflow as tf\n",
    "import numpy as np\n",
    "from sklearn.preprocessing import MinMaxScaler\n"
   ]
  },
  {
   "cell_type": "code",
   "execution_count": 2,
   "metadata": {},
   "outputs": [],
   "source": [
    "#Train dataset\n",
    "x_data = [[1,2,1], [1,3,2], [1,3,4], [1,5,5], [1,7,5], [1,2,5], [1,6,6], [1,7,7]]\n",
    "y_data = [[0,0,1], [0,0,1], [0,0,1], [0,1,0], [0,1,0], [0,1,0], [1,0,0], [1,1,0]]"
   ]
  },
  {
   "cell_type": "code",
   "execution_count": 3,
   "metadata": {},
   "outputs": [],
   "source": [
    "#Test dataset\n",
    "x_test = [[2,1,1], [3,1,2], [3,3,4]]\n",
    "y_test = [[0,0,1], [0,0,1], [0,0,1]]"
   ]
  },
  {
   "cell_type": "code",
   "execution_count": 4,
   "metadata": {},
   "outputs": [
    {
     "name": "stdout",
     "output_type": "stream",
     "text": [
      "WARNING:tensorflow:From c:\\users\\s\\appdata\\local\\programs\\python\\python36\\lib\\site-packages\\tensorflow\\python\\framework\\op_def_library.py:263: colocate_with (from tensorflow.python.framework.ops) is deprecated and will be removed in a future version.\n",
      "Instructions for updating:\n",
      "Colocations handled automatically by placer.\n"
     ]
    }
   ],
   "source": [
    "X = tf.placeholder(tf.float32, shape=[None,3])\n",
    "Y = tf.placeholder(tf.float32, shape=[None,3])\n",
    "\n",
    "W = tf.Variable(tf.random_normal([3,3]))\n",
    "b = tf.Variable(tf.random_normal([3]))"
   ]
  },
  {
   "cell_type": "code",
   "execution_count": 5,
   "metadata": {},
   "outputs": [
    {
     "name": "stdout",
     "output_type": "stream",
     "text": [
      "WARNING:tensorflow:From <ipython-input-5-f9eebc4e7430>:5: softmax_cross_entropy_with_logits (from tensorflow.python.ops.nn_ops) is deprecated and will be removed in a future version.\n",
      "Instructions for updating:\n",
      "\n",
      "Future major versions of TensorFlow will allow gradients to flow\n",
      "into the labels input on backprop by default.\n",
      "\n",
      "See `tf.nn.softmax_cross_entropy_with_logits_v2`.\n",
      "\n"
     ]
    }
   ],
   "source": [
    "#가설 설정\n",
    "logits = tf.matmul(X,W) + b\n",
    "hypothesis = tf.nn.softmax(logits)\n",
    "\n",
    "cost_i = tf.nn.softmax_cross_entropy_with_logits(logits=logits , labels=Y)\n",
    "cost = tf.reduce_mean(cost_i)\n",
    "\n",
    "optimizer = tf.train.GradientDescentOptimizer(learning_rate = 0.1)\n",
    "\n",
    "train = optimizer.minimize(cost)"
   ]
  },
  {
   "cell_type": "code",
   "execution_count": 7,
   "metadata": {},
   "outputs": [
    {
     "name": "stdout",
     "output_type": "stream",
     "text": [
      "WARNING:tensorflow:From <ipython-input-7-c8995addf088>:1: arg_max (from tensorflow.python.ops.gen_math_ops) is deprecated and will be removed in a future version.\n",
      "Instructions for updating:\n",
      "Use `tf.math.argmax` instead\n"
     ]
    }
   ],
   "source": [
    "prediction = tf.arg_max(hypothesis,1)\n",
    "is_correct = tf.equal(prediction , tf.arg_max(Y,1))\n",
    "accuracy = tf.reduce_mean(tf.cast(is_correct , tf.float32))"
   ]
  },
  {
   "cell_type": "code",
   "execution_count": 8,
   "metadata": {},
   "outputs": [
    {
     "name": "stdout",
     "output_type": "stream",
     "text": [
      "0 4.851778 [[ 0.401985   -0.05048804 -1.2400731 ]\n",
      " [ 0.05047157  0.3335697  -1.9905123 ]\n",
      " [-0.6377822  -0.53062415  0.49840888]]\n",
      "200 0.7197687 [[-0.24556893  0.16644561  1.690547  ]\n",
      " [ 5.5006437   5.3530903   5.039798  ]\n",
      " [ 5.8914976   5.992523    4.94598   ]]\n",
      "400 0.65781844 [[-0.16066885  0.724158    3.5479343 ]\n",
      " [11.48252    11.350618   10.560404  ]\n",
      " [11.950162   11.866342   10.513488  ]]\n",
      "600 0.6476833 [[ 0.05343093  1.2996931   5.258301  ]\n",
      " [17.477888   17.359966   16.055676  ]\n",
      " [17.953907   17.727888   16.14819   ]]\n",
      "800 0.65323156 [[ 0.3319369  1.8527124  6.926775 ]\n",
      " [23.479149  23.372532  21.541803 ]\n",
      " [23.931091  23.596746  21.80215  ]]\n",
      "1000 0.66518056 [[ 0.65248513  2.3830497   8.575892  ]\n",
      " [29.48047    29.382738   27.030268  ]\n",
      " [29.89305    29.475864   27.461105  ]]\n",
      "1200 0.68021715 [[ 1.0030203  2.8960257 10.212381 ]\n",
      " [35.47935   35.3887    32.525448 ]\n",
      " [35.845566  35.364147  33.120277 ]]\n",
      "1400 0.6968061 [[ 1.3758641  3.3962562 11.839309 ]\n",
      " [41.474953  41.389954  38.02862  ]\n",
      " [41.79187   41.26      38.77812  ]]\n",
      "1600 0.71398216 [[ 1.7657303  3.8869417 13.458755 ]\n",
      " [47.466854  47.386383  43.54026  ]\n",
      " [47.733932  47.162148  44.43383  ]]\n",
      "1800 0.73106396 [[ 2.1688223  4.370169  15.072434 ]\n",
      " [53.454903  53.37792   49.060673 ]\n",
      " [53.6732    53.06973   50.086926 ]]\n",
      "2000 0.7475318 [[ 2.5822973  4.847329  16.681791 ]\n",
      " [59.43885   59.364563  54.590054 ]\n",
      " [59.610676  58.982162  55.736984 ]]\n",
      "Prediction :  [2 2 2]\n",
      "Accuracy :  1.0\n"
     ]
    }
   ],
   "source": [
    "with tf.Session() as sess :\n",
    "    sess.run(tf.global_variables_initializer())\n",
    "    \n",
    "    for step in range(2001) :\n",
    "        cost_val , W_val , _ = sess.run([cost , W, train] , feed_dict={X:x_data , Y : y_data})\n",
    "        if step % 200 == 0 :\n",
    "            print(step , cost_val , W_val)\n",
    "            \n",
    "    # Test Data를 이용하여 예측 및 정확성 평가        \n",
    "    print(\"Prediction : \" , sess.run(prediction , feed_dict ={ X : x_test}))\n",
    "    print(\"Accuracy : \", sess.run(accuracy , feed_dict={X : x_test , Y : y_test}))"
   ]
  },
  {
   "cell_type": "code",
   "execution_count": 24,
   "metadata": {},
   "outputs": [
    {
     "name": "stdout",
     "output_type": "stream",
     "text": [
      "MinMaxScaler(copy=True,\n",
      "       feature_range=array([[8.28660e+02, 8.33450e+02, 9.08100e+05],\n",
      "       [8.22652e+02, 8.13450e+02, 8.00000e+02],\n",
      "       [8.28660e+02, 8.30012e+05, 9.08100e+02]]))\n"
     ]
    }
   ],
   "source": [
    "#Data의 차이가 클시, 정규화를 시켜줘야함! \n",
    "xy = np.array([[828.659973,833.450012,908100] , [822.652373,813.450012,800],[828.659973,830012,908.100]])\n",
    "xy = MinMaxScaler(xy)\n",
    "print(xy)"
   ]
  },
  {
   "cell_type": "code",
   "execution_count": null,
   "metadata": {},
   "outputs": [],
   "source": []
  }
 ],
 "metadata": {
  "kernelspec": {
   "display_name": "Python 3",
   "language": "python",
   "name": "python3"
  },
  "language_info": {
   "codemirror_mode": {
    "name": "ipython",
    "version": 3
   },
   "file_extension": ".py",
   "mimetype": "text/x-python",
   "name": "python",
   "nbconvert_exporter": "python",
   "pygments_lexer": "ipython3",
   "version": "3.6.8"
  }
 },
 "nbformat": 4,
 "nbformat_minor": 2
}
