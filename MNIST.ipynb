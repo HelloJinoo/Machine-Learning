{
 "cells": [
  {
   "cell_type": "code",
   "execution_count": 103,
   "metadata": {},
   "outputs": [],
   "source": [
    "import tensorflow as tf\n",
    "import matplotlib.pyplot as plt\n",
    "import random\n",
    "from tensorflow.examples.tutorials.mnist import input_data"
   ]
  },
  {
   "cell_type": "code",
   "execution_count": 104,
   "metadata": {},
   "outputs": [],
   "source": [
    "nb_classes = 10\n",
    "\n",
    "# 28x28크기의 이미지 => 28x28 = 784\n",
    "X = tf.placeholder(tf.float32 , shape=[None , 784])\n",
    "\n",
    "# 0~9 digist -> 10개의 class\n",
    "Y = tf.placeholder(tf.float32 , shape=[None , nb_classes])"
   ]
  },
  {
   "cell_type": "code",
   "execution_count": 105,
   "metadata": {},
   "outputs": [],
   "source": [
    "W = tf.Variable(tf.random_normal([784,nb_classes]))\n",
    "b = tf.Variable(tf.random_normal([nb_classes]))"
   ]
  },
  {
   "cell_type": "code",
   "execution_count": 106,
   "metadata": {},
   "outputs": [],
   "source": [
    "hypothesis = tf.nn.softmax(tf.matmul(X,W) + b)\n",
    "\n",
    "cost = tf.reduce_mean(-tf.reduce_sum( Y * tf.log(hypothesis) , axis = 1))\n",
    "optimizer = tf.train.GradientDescentOptimizer(learning_rate = 0.1)\n",
    "train = optimizer.minimize(cost)"
   ]
  },
  {
   "cell_type": "code",
   "execution_count": 107,
   "metadata": {},
   "outputs": [],
   "source": [
    "#Test model\n",
    "is_correct = tf.equal(tf.arg_max(hypothesis,1) , tf.arg_max(Y,1))\n",
    "\n",
    "#Calculate Accuracy\n",
    "accuracy = tf.reduce_mean(tf.cast(is_correct , tf.float32))"
   ]
  },
  {
   "cell_type": "code",
   "execution_count": 108,
   "metadata": {},
   "outputs": [
    {
     "name": "stdout",
     "output_type": "stream",
     "text": [
      "Extracting MNIST_data/train-images-idx3-ubyte.gz\n",
      "Extracting MNIST_data/train-labels-idx1-ubyte.gz\n",
      "Extracting MNIST_data/t10k-images-idx3-ubyte.gz\n",
      "Extracting MNIST_data/t10k-labels-idx1-ubyte.gz\n"
     ]
    }
   ],
   "source": [
    "# 임포트한 input_data로 Data를 read\n",
    "mnist = input_data.read_data_sets(\"MNIST_data/\" , one_hot=True)"
   ]
  },
  {
   "cell_type": "code",
   "execution_count": 109,
   "metadata": {},
   "outputs": [
    {
     "name": "stdout",
     "output_type": "stream",
     "text": [
      "Epoch : 0001 cost =  2.886851806\n",
      "Epoch : 0002 cost =  1.036758596\n",
      "Epoch : 0003 cost =  0.831392730\n",
      "Epoch : 0004 cost =  0.733112157\n",
      "Epoch : 0005 cost =  0.671485536\n",
      "Epoch : 0006 cost =  0.627210570\n",
      "Epoch : 0007 cost =  0.593576088\n",
      "Epoch : 0008 cost =  0.566484298\n",
      "Epoch : 0009 cost =  0.544193572\n",
      "Epoch : 0010 cost =  0.525362035\n",
      "Epoch : 0011 cost =  0.509024919\n",
      "Epoch : 0012 cost =  0.494768457\n",
      "Epoch : 0013 cost =  0.482325837\n",
      "Epoch : 0014 cost =  0.471047331\n",
      "Epoch : 0015 cost =  0.461062917\n",
      "Learning Finished\n",
      "Accuracy :  0.8909\n",
      "6861\n",
      "Label :  [4]\n",
      "Prediction :  [4]\n"
     ]
    },
    {
     "data": {
      "image/png": "[encoded data removed]",
      "text/plain": [
       "<Figure size 432x288 with 1 Axes>"
      ]
     },
     "metadata": {
      "needs_background": "light"
     },
     "output_type": "display_data"
    }
   ],
   "source": [
    "# epoch = 전체 데이터를 몇번씩 학습시킬지\n",
    "training_epochs = 15\n",
    "\n",
    "#size만큼의 traindata를 가져와서 학습을 시킴\n",
    "batch_size = 100\n",
    "\n",
    "\n",
    "with tf.Session() as sess :\n",
    "    sess.run(tf.global_variables_initializer())\n",
    "    \n",
    "    for epochs in range(training_epochs) :\n",
    "        avg_cost = 0\n",
    "        total_batch = int(mnist.train.num_examples / batch_size)\n",
    "        \n",
    "        for i in range(total_batch) :\n",
    "            batch_xs , batch_ys = mnist.train.next_batch(batch_size)\n",
    "            c , _ = sess.run([cost , train] , feed_dict = { X : batch_xs, Y : batch_ys})\n",
    "            avg_cost += c  / total_batch\n",
    "        print('Epoch :' , '%04d' % (epochs +1 ) , 'cost = ', '{:.9f}'.format(avg_cost) )     \n",
    "    \n",
    "    print(\"Learning Finished\")\n",
    "   #Test the model using test sets\n",
    "    print(\"Accuracy : \", accuracy.eval(session=sess , feed_dict={X : mnist.test.images , Y : mnist.test.labels}))     \n",
    "    \n",
    "    #mnist.test의 예제 중 하나를 랜덤으로 읽음\n",
    "    r = random.randint(0, mnist.test.num_examples -1)\n",
    "    print(r)\n",
    "    print(\"Label : \" , sess.run(tf.arg_max(mnist.test.labels[r:r+1] , 1)))  # mnist.test.labels리스트가 one_hot 이기에 arg_max를 이용\n",
    "    print(\"Prediction : \", sess.run(tf.arg_max(hypothesis,1), feed_dict={X : mnist.test.images[r:r+1]} ))\n",
    "    plt.imshow(mnist.test.images[r:r+1].reshape(28,28) , cmap = 'Blues' , interpolation ='nearest')\n",
    "    plt.show()"
   ]
  },
  {
   "cell_type": "code",
   "execution_count": null,
   "metadata": {},
   "outputs": [],
   "source": []
  }
 ],
 "metadata": {
  "kernelspec": {
   "display_name": "Python 3",
   "language": "python",
   "name": "python3"
  },
  "language_info": {
   "codemirror_mode": {
    "name": "ipython",
    "version": 3
   },
   "file_extension": ".py",
   "mimetype": "text/x-python",
   "name": "python",
   "nbconvert_exporter": "python",
   "pygments_lexer": "ipython3",
   "version": "3.6.8"
  }
 },
 "nbformat": 4,
 "nbformat_minor": 2
}
