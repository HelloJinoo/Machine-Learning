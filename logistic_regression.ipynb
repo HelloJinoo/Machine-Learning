{
 "cells": [
  {
   "cell_type": "code",
   "execution_count": 1,
   "metadata": {},
   "outputs": [],
   "source": [
    "import tensorflow as tf\n"
   ]
  },
  {
   "cell_type": "code",
   "execution_count": 2,
   "metadata": {},
   "outputs": [],
   "source": [
    "x_data = [[1,2] , [2,3] , [3,1] , [4,3] , [5,3] ,[6,2]]\n",
    "y_data = [[0],[0],[0],[1],[1],[1]]\n",
    "\n",
    "X = tf.placeholder(tf.float32 , shape=[None,2])\n",
    "Y = tf.placeholder(tf.float32, shape=[None,1])"
   ]
  },
  {
   "cell_type": "code",
   "execution_count": 3,
   "metadata": {},
   "outputs": [
    {
     "name": "stdout",
     "output_type": "stream",
     "text": [
      "WARNING:tensorflow:From c:\\users\\s\\appdata\\local\\programs\\python\\python36\\lib\\site-packages\\tensorflow\\python\\framework\\op_def_library.py:263: colocate_with (from tensorflow.python.framework.ops) is deprecated and will be removed in a future version.\n",
      "Instructions for updating:\n",
      "Colocations handled automatically by placer.\n"
     ]
    }
   ],
   "source": [
    "W = tf.Variable(tf.random_normal([2,1]) , name=\"weight\")\n",
    "b = tf.Variable(tf.random_normal([1]) , name=\"bias\")"
   ]
  },
  {
   "cell_type": "code",
   "execution_count": 4,
   "metadata": {},
   "outputs": [],
   "source": [
    "#sigmoid로 가설을 설정 -> tf에서 제공 H(X) = 1 / 1+ e^-WtX\n",
    "hypothesis = tf.sigmoid(tf.matmul(X,W) + b)  "
   ]
  },
  {
   "cell_type": "code",
   "execution_count": 6,
   "metadata": {},
   "outputs": [],
   "source": [
    "# cost = -1/m sigma ( ylog(H(x)) + (1-y)log(1-H(x)) )\n",
    "cost = -tf.reduce_mean( Y * tf.log(hypothesis) + (1-Y) * tf.log(1 - hypothesis))  "
   ]
  },
  {
   "cell_type": "code",
   "execution_count": 7,
   "metadata": {},
   "outputs": [],
   "source": [
    "optimizer = tf.train.GradientDescentOptimizer(learning_rate =0.01)"
   ]
  },
  {
   "cell_type": "code",
   "execution_count": 8,
   "metadata": {},
   "outputs": [],
   "source": [
    "train = optimizer.minimize(cost)"
   ]
  },
  {
   "cell_type": "code",
   "execution_count": 24,
   "metadata": {},
   "outputs": [],
   "source": [
    "#hypothesis > 0.5(비굑 기준) 보다 크면 T , 작으면 F인데  tf.float32로  cast를 하게되면 T : 1 , F :0으로 됨.\n",
    "predicated = tf.cast(hypothesis > 0.5, dtype = tf.float32)  \n",
    "\n",
    "#정확도 = 예측값과 실제 값을 비교하여 같으면 T , 아니며 F로 해서 평균을 구하면 정확도가 나옴\n",
    "accuracy = tf.reduce_mean(tf.cast(tf.equal(predicated , Y) , dtype = tf.float32))"
   ]
  },
  {
   "cell_type": "code",
   "execution_count": 25,
   "metadata": {},
   "outputs": [
    {
     "name": "stdout",
     "output_type": "stream",
     "text": [
      "0 1.0135741\n",
      "200 0.66184545\n",
      "400 0.5218137\n",
      "600 0.46097657\n",
      "800 0.42796493\n",
      "1000 0.40597153\n",
      "1200 0.38901564\n",
      "1400 0.37469885\n",
      "1600 0.3619565\n",
      "1800 0.35027596\n",
      "2000 0.33939108\n",
      "2200 0.32915327\n",
      "2400 0.31947288\n",
      "2600 0.31029075\n",
      "2800 0.301564\n",
      "3000 0.2932592\n",
      "3200 0.28534853\n",
      "3400 0.27780738\n",
      "3600 0.27061382\n",
      "3800 0.26374736\n",
      "4000 0.25718942\n",
      "4200 0.2509222\n",
      "4400 0.24492943\n",
      "4600 0.23919547\n",
      "4800 0.23370592\n",
      "5000 0.22844718\n",
      "\n",
      "Hypothesis :  [[0.069658  ]\n",
      " [0.19158277]\n",
      " [0.4557023 ]\n",
      " [0.71867615]\n",
      " [0.8934747 ]\n",
      " [0.9661769 ]] \n",
      "Correct (Y) :  [[1.]\n",
      " [1.]\n",
      " [1.]\n",
      " [1.]\n",
      " [1.]\n",
      " [1.]] \n",
      "Accuracy :  0.5\n",
      "[[0.18597278]] [[1.]]\n"
     ]
    }
   ],
   "source": [
    "with tf.Session() as sess :\n",
    "    sess.run(tf.global_variables_initializer())\n",
    "    #learning model\n",
    "    for step in range(5001) :\n",
    "        cost_val , _ = sess.run([cost , train] , feed_dict={X : x_data , Y : y_data})\n",
    "        if step % 200 == 0 :\n",
    "            print( step , cost_val)\n",
    "    \n",
    "    # Accuracy report\n",
    "    h, c, a = sess.run([hypothesis , predicated , accuracy] , feed_dict= {X : x_data , Y : y_data})\n",
    "    print(\"\\nHypothesis : \" , h , \"\\nCorrect (Y) : \" , c , \"\\nAccuracy : \" , a)\n",
    "    r_h , r_p = sess.run([hypothesis, predicated ], feed_dict = {X : [[2,4]] } )\n",
    "    print( r_h , r_p)\n",
    "            "
   ]
  },
  {
   "cell_type": "code",
   "execution_count": null,
   "metadata": {},
   "outputs": [],
   "source": []
  }
 ],
 "metadata": {
  "kernelspec": {
   "display_name": "Python 3",
   "language": "python",
   "name": "python3"
  },
  "language_info": {
   "codemirror_mode": {
    "name": "ipython",
    "version": 3
   },
   "file_extension": ".py",
   "mimetype": "text/x-python",
   "name": "python",
   "nbconvert_exporter": "python",
   "pygments_lexer": "ipython3",
   "version": "3.6.8"
  }
 },
 "nbformat": 4,
 "nbformat_minor": 2
}
