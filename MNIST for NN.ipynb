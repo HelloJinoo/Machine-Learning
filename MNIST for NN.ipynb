{
 "cells": [
  {
   "cell_type": "code",
   "execution_count": 13,
   "metadata": {},
   "outputs": [],
   "source": [
    "import tensorflow as tf\n",
    "import matplotlib.pyplot as plt\n",
    "import random\n",
    "from tensorflow.examples.tutorials.mnist import input_data"
   ]
  },
  {
   "cell_type": "code",
   "execution_count": 14,
   "metadata": {},
   "outputs": [],
   "source": [
    "nb_classes = 10\n",
    "\n",
    "# 28x28크기의 이미지 => 28x28 = 784\n",
    "X = tf.placeholder(tf.float32 , shape=[None , 784])\n",
    "\n",
    "# 0~9 digist -> 10개의 class\n",
    "Y = tf.placeholder(tf.float32 , shape=[None , nb_classes])"
   ]
  },
  {
   "cell_type": "code",
   "execution_count": 21,
   "metadata": {},
   "outputs": [
    {
     "name": "stdout",
     "output_type": "stream",
     "text": [
      "WARNING:tensorflow:From <ipython-input-21-c6bc8264dab0>:1: read_data_sets (from tensorflow.contrib.learn.python.learn.datasets.mnist) is deprecated and will be removed in a future version.\n",
      "Instructions for updating:\n",
      "Please use alternatives such as official/mnist/dataset.py from tensorflow/models.\n",
      "WARNING:tensorflow:From c:\\users\\s\\appdata\\local\\programs\\python\\python36\\lib\\site-packages\\tensorflow\\contrib\\learn\\python\\learn\\datasets\\mnist.py:260: maybe_download (from tensorflow.contrib.learn.python.learn.datasets.base) is deprecated and will be removed in a future version.\n",
      "Instructions for updating:\n",
      "Please write your own downloading logic.\n",
      "WARNING:tensorflow:From c:\\users\\s\\appdata\\local\\programs\\python\\python36\\lib\\site-packages\\tensorflow\\contrib\\learn\\python\\learn\\datasets\\mnist.py:262: extract_images (from tensorflow.contrib.learn.python.learn.datasets.mnist) is deprecated and will be removed in a future version.\n",
      "Instructions for updating:\n",
      "Please use tf.data to implement this functionality.\n",
      "Extracting MNIST_data/train-images-idx3-ubyte.gz\n",
      "WARNING:tensorflow:From c:\\users\\s\\appdata\\local\\programs\\python\\python36\\lib\\site-packages\\tensorflow\\contrib\\learn\\python\\learn\\datasets\\mnist.py:267: extract_labels (from tensorflow.contrib.learn.python.learn.datasets.mnist) is deprecated and will be removed in a future version.\n",
      "Instructions for updating:\n",
      "Please use tf.data to implement this functionality.\n",
      "Extracting MNIST_data/train-labels-idx1-ubyte.gz\n",
      "WARNING:tensorflow:From c:\\users\\s\\appdata\\local\\programs\\python\\python36\\lib\\site-packages\\tensorflow\\contrib\\learn\\python\\learn\\datasets\\mnist.py:110: dense_to_one_hot (from tensorflow.contrib.learn.python.learn.datasets.mnist) is deprecated and will be removed in a future version.\n",
      "Instructions for updating:\n",
      "Please use tf.one_hot on tensors.\n",
      "Extracting MNIST_data/t10k-images-idx3-ubyte.gz\n",
      "Extracting MNIST_data/t10k-labels-idx1-ubyte.gz\n",
      "WARNING:tensorflow:From c:\\users\\s\\appdata\\local\\programs\\python\\python36\\lib\\site-packages\\tensorflow\\contrib\\learn\\python\\learn\\datasets\\mnist.py:290: DataSet.__init__ (from tensorflow.contrib.learn.python.learn.datasets.mnist) is deprecated and will be removed in a future version.\n",
      "Instructions for updating:\n",
      "Please use alternatives such as official/mnist/dataset.py from tensorflow/models.\n"
     ]
    }
   ],
   "source": [
    "mnist = input_data.read_data_sets(\"MNIST_data/\" , one_hot=True)"
   ]
  },
  {
   "cell_type": "code",
   "execution_count": 22,
   "metadata": {},
   "outputs": [
    {
     "name": "stdout",
     "output_type": "stream",
     "text": [
      "WARNING:tensorflow:From <ipython-input-22-38c57c2332c6>:2: arg_max (from tensorflow.python.ops.gen_math_ops) is deprecated and will be removed in a future version.\n",
      "Instructions for updating:\n",
      "Use `tf.math.argmax` instead\n"
     ]
    }
   ],
   "source": [
    "#Test model\n",
    "is_correct = tf.equal(tf.arg_max(hypothesis,1) , tf.arg_max(Y,1))\n",
    "\n",
    "#Calculate Accuracy\n",
    "accuracy = tf.reduce_mean(tf.cast(is_correct , tf.float32))"
   ]
  },
  {
   "cell_type": "code",
   "execution_count": 16,
   "metadata": {},
   "outputs": [],
   "source": [
    "#초기값을 xavier로 최적의 W값을 선택해줌\n",
    "\n",
    "#1번째 Layer\n",
    "W1 = tf.get_variable(\"W\" , shape=[784,256] , initializer = tf.contrib.layers.xavier_initializer())\n",
    "b1 = tf.Variable(tf.random_normal([256]))\n",
    "L1 = tf.nn.relu(tf.matmul(X,W1)+b1)\n",
    "\n",
    "#2번째 Layer\n",
    "W2 = tf.get_variable(\"W2\" , shape=[256,256] , initializer = tf.contrib.layers.xavier_initializer())\n",
    "b2 = tf.Variable(tf.random_normal([256]))\n",
    "L2 = tf.nn.relu(tf.matmul(L1,W2) + b2) \n",
    "\n",
    "W3 = tf.get_variable(\"W3\" , shape=[256,10] , initializer = tf.contrib.layers.xavier_initializer())\n",
    "b3 = tf.Variable(tf.random_normal([10]))"
   ]
  },
  {
   "cell_type": "code",
   "execution_count": 17,
   "metadata": {},
   "outputs": [],
   "source": [
    "hypothesis = tf.matmul(L2,W3) + b3"
   ]
  },
  {
   "cell_type": "code",
   "execution_count": 18,
   "metadata": {},
   "outputs": [
    {
     "name": "stdout",
     "output_type": "stream",
     "text": [
      "WARNING:tensorflow:From <ipython-input-18-14540ee12667>:1: softmax_cross_entropy_with_logits (from tensorflow.python.ops.nn_ops) is deprecated and will be removed in a future version.\n",
      "Instructions for updating:\n",
      "\n",
      "Future major versions of TensorFlow will allow gradients to flow\n",
      "into the labels input on backprop by default.\n",
      "\n",
      "See `tf.nn.softmax_cross_entropy_with_logits_v2`.\n",
      "\n"
     ]
    }
   ],
   "source": [
    "cost = tf.reduce_mean(tf.nn.softmax_cross_entropy_with_logits(logits = hypothesis, labels = Y))"
   ]
  },
  {
   "cell_type": "code",
   "execution_count": 19,
   "metadata": {},
   "outputs": [],
   "source": [
    "optimizer = tf.train.AdamOptimizer(learning_rate = 0.01)"
   ]
  },
  {
   "cell_type": "code",
   "execution_count": 20,
   "metadata": {},
   "outputs": [],
   "source": [
    "train = optimizer.minimize(cost)"
   ]
  },
  {
   "cell_type": "code",
   "execution_count": 23,
   "metadata": {},
   "outputs": [
    {
     "name": "stdout",
     "output_type": "stream",
     "text": [
      "Epoch : 0001 cost =  0.260698174\n",
      "Epoch : 0002 cost =  0.137237620\n",
      "Epoch : 0003 cost =  0.112707728\n",
      "Epoch : 0004 cost =  0.100616064\n",
      "Epoch : 0005 cost =  0.096694650\n",
      "Epoch : 0006 cost =  0.088637940\n",
      "Epoch : 0007 cost =  0.086012935\n",
      "Epoch : 0008 cost =  0.076763303\n",
      "Epoch : 0009 cost =  0.092049374\n",
      "Epoch : 0010 cost =  0.065775803\n",
      "Epoch : 0011 cost =  0.064907266\n",
      "Epoch : 0012 cost =  0.072000759\n",
      "Epoch : 0013 cost =  0.067174370\n",
      "Epoch : 0014 cost =  0.057252584\n",
      "Epoch : 0015 cost =  0.062975130\n",
      "Learning Finished\n",
      "Accuracy :  0.9693\n",
      "2690\n",
      "Label :  [3]\n",
      "Prediction :  [3]\n"
     ]
    },
    {
     "data": {
      "image/png": "[encoded data removed]",
      "text/plain": [
       "<Figure size 432x288 with 1 Axes>"
      ]
     },
     "metadata": {
      "needs_background": "light"
     },
     "output_type": "display_data"
    }
   ],
   "source": [
    "# epoch = 전체 데이터를 몇번씩 학습시킬지\n",
    "training_epochs = 15\n",
    "\n",
    "#size만큼의 traindata를 가져와서 학습을 시킴\n",
    "batch_size = 100\n",
    "\n",
    "\n",
    "with tf.Session() as sess :\n",
    "    sess.run(tf.global_variables_initializer())\n",
    "    \n",
    "    for epochs in range(training_epochs) :\n",
    "        avg_cost = 0\n",
    "        total_batch = int(mnist.train.num_examples / batch_size)\n",
    "        \n",
    "        for i in range(total_batch) :\n",
    "            batch_xs , batch_ys = mnist.train.next_batch(batch_size)\n",
    "            c , _ = sess.run([cost , train] , feed_dict = { X : batch_xs, Y : batch_ys})\n",
    "            avg_cost += c  / total_batch\n",
    "        print('Epoch :' , '%04d' % (epochs +1 ) , 'cost = ', '{:.9f}'.format(avg_cost) )     \n",
    "    \n",
    "    print(\"Learning Finished\")\n",
    "   #Test the model using test sets\n",
    "    print(\"Accuracy : \", accuracy.eval(session=sess , feed_dict={X : mnist.test.images , Y : mnist.test.labels}))     \n",
    "    \n",
    "    #mnist.test의 예제 중 하나를 랜덤으로 읽음\n",
    "    r = random.randint(0, mnist.test.num_examples -1)\n",
    "    print(r)\n",
    "    print(\"Label : \" , sess.run(tf.arg_max(mnist.test.labels[r:r+1] , 1)))  # mnist.test.labels리스트가 one_hot 이기에 arg_max를 이용\n",
    "    print(\"Prediction : \", sess.run(tf.arg_max(hypothesis,1), feed_dict={X : mnist.test.images[r:r+1]} ))\n",
    "    plt.imshow(mnist.test.images[r:r+1].reshape(28,28) , cmap = 'Blues' , interpolation ='nearest')\n",
    "    plt.show()"
   ]
  },
  {
   "cell_type": "code",
   "execution_count": null,
   "metadata": {},
   "outputs": [],
   "source": []
  }
 ],
 "metadata": {
  "kernelspec": {
   "display_name": "Python 3",
   "language": "python",
   "name": "python3"
  },
  "language_info": {
   "codemirror_mode": {
    "name": "ipython",
    "version": 3
   },
   "file_extension": ".py",
   "mimetype": "text/x-python",
   "name": "python",
   "nbconvert_exporter": "python",
   "pygments_lexer": "ipython3",
   "version": "3.6.8"
  }
 },
 "nbformat": 4,
 "nbformat_minor": 2
}
