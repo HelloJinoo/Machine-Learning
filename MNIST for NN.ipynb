{
 "cells": [
  {
   "cell_type": "code",
   "execution_count": 37,
   "metadata": {},
   "outputs": [],
   "source": [
    "import tensorflow as tf\n",
    "import matplotlib.pyplot as plt\n",
    "import random\n",
    "from tensorflow.examples.tutorials.mnist import input_data"
   ]
  },
  {
   "cell_type": "code",
   "execution_count": 38,
   "metadata": {},
   "outputs": [],
   "source": [
    "nb_classes = 10\n",
    "\n",
    "# 28x28크기의 이미지 => 28x28 = 784\n",
    "X = tf.placeholder(tf.float32 , shape=[None , 784])\n",
    "\n",
    "# 0~9 digist -> 10개의 class\n",
    "Y = tf.placeholder(tf.float32 , shape=[None , nb_classes])"
   ]
  },
  {
   "cell_type": "code",
   "execution_count": 39,
   "metadata": {},
   "outputs": [
    {
     "name": "stdout",
     "output_type": "stream",
     "text": [
      "Extracting MNIST_data/train-images-idx3-ubyte.gz\n",
      "Extracting MNIST_data/train-labels-idx1-ubyte.gz\n",
      "Extracting MNIST_data/t10k-images-idx3-ubyte.gz\n",
      "Extracting MNIST_data/t10k-labels-idx1-ubyte.gz\n"
     ]
    }
   ],
   "source": [
    "mnist = input_data.read_data_sets(\"MNIST_data/\" , one_hot=True)"
   ]
  },
  {
   "cell_type": "code",
   "execution_count": 42,
   "metadata": {},
   "outputs": [],
   "source": [
    "#초기값을 xavier로 최적의 W값을 선택해줌\n",
    "#keep_prob : 몇프로를 keep할것인가 \n",
    "#보통 Train을 할때는 0.5~0.7 -> 보통 모든 노드를 사용하지않고 일부 골라서 학습 , testing을 할때는 1, 모든 nn을 다 사용\n",
    "#1번째 Layer\n",
    "keep_prob = tf.placeholder(tf.float32)\n",
    "\n",
    "W1 = tf.get_variable(\"a11\" , shape=[784,256] , initializer = tf.contrib.layers.xavier_initializer())\n",
    "b1 = tf.Variable(tf.random_normal([256]))\n",
    "L1 = tf.nn.relu(tf.matmul(X,W1)+b1)\n",
    "\n",
    "\n",
    "L1 = tf.nn.dropout(L1, keep_prob=keep_prob)  \n",
    "\n",
    "#2번째 Layer\n",
    "W2 = tf.get_variable(\"a22\" , shape=[256,256] , initializer = tf.contrib.layers.xavier_initializer())\n",
    "b2 = tf.Variable(tf.random_normal([256]))\n",
    "L2 = tf.nn.relu(tf.matmul(L1,W2) + b2) \n",
    "L2 = tf.nn.dropout(L2, keep_prob=keep_prob)  \n",
    "\n",
    "\n",
    "W3 = tf.get_variable(\"a33\" , shape=[256,10] , initializer = tf.contrib.layers.xavier_initializer())\n",
    "b3 = tf.Variable(tf.random_normal([10]))"
   ]
  },
  {
   "cell_type": "code",
   "execution_count": 43,
   "metadata": {},
   "outputs": [],
   "source": [
    "hypothesis = tf.matmul(L2,W3) + b3"
   ]
  },
  {
   "cell_type": "code",
   "execution_count": 44,
   "metadata": {},
   "outputs": [],
   "source": [
    "cost = tf.reduce_mean(tf.nn.softmax_cross_entropy_with_logits(logits = hypothesis, labels = Y))"
   ]
  },
  {
   "cell_type": "code",
   "execution_count": 45,
   "metadata": {},
   "outputs": [],
   "source": [
    "optimizer = tf.train.AdamOptimizer(learning_rate = 0.01) #여러개의 optimizer가 있음."
   ]
  },
  {
   "cell_type": "code",
   "execution_count": 46,
   "metadata": {},
   "outputs": [],
   "source": [
    "train = optimizer.minimize(cost)"
   ]
  },
  {
   "cell_type": "code",
   "execution_count": 49,
   "metadata": {},
   "outputs": [],
   "source": [
    "#Test model\n",
    "is_correct = tf.equal(tf.arg_max(hypothesis,1) , tf.arg_max(Y,1))\n",
    "\n",
    "#Calculate Accuracy\n",
    "accuracy = tf.reduce_mean(tf.cast(is_correct , tf.float32))"
   ]
  },
  {
   "cell_type": "code",
   "execution_count": 51,
   "metadata": {},
   "outputs": [
    {
     "name": "stdout",
     "output_type": "stream",
     "text": [
      "Epoch : 0001 cost =  0.428801941\n",
      "Epoch : 0002 cost =  0.302890315\n",
      "Epoch : 0003 cost =  0.283699073\n",
      "Epoch : 0004 cost =  0.275824483\n",
      "Epoch : 0005 cost =  0.264169642\n",
      "Epoch : 0006 cost =  0.249938939\n",
      "Epoch : 0007 cost =  0.254342437\n",
      "Epoch : 0008 cost =  0.264268455\n",
      "Epoch : 0009 cost =  0.247886593\n",
      "Epoch : 0010 cost =  0.245316121\n",
      "Learning Finished\n",
      "Accuracy :  0.9585\n",
      "9520\n",
      "Label :  [1]\n",
      "Prediction :  [1]\n"
     ]
    },
    {
     "data": {
      "image/png": "[encoded data removed]",
      "text/plain": [
       "<Figure size 432x288 with 1 Axes>"
      ]
     },
     "metadata": {
      "needs_background": "light"
     },
     "output_type": "display_data"
    }
   ],
   "source": [
    "# epoch = 전체 데이터를 몇번씩 학습시킬지\n",
    "training_epochs = 10\n",
    "\n",
    "#size만큼의 traindata를 가져와서 학습을 시킴\n",
    "batch_size = 100\n",
    "\n",
    "\n",
    "with tf.Session() as sess :\n",
    "    sess.run(tf.global_variables_initializer())\n",
    "    \n",
    "    for epochs in range(training_epochs) :\n",
    "        avg_cost = 0\n",
    "        total_batch = int(mnist.train.num_examples / batch_size)\n",
    "        \n",
    "        for i in range(total_batch) :\n",
    "            batch_xs , batch_ys = mnist.train.next_batch(batch_size)\n",
    "            c , _ = sess.run([cost , train] , feed_dict = { X : batch_xs, Y : batch_ys , keep_prob : 0.7})\n",
    "            avg_cost += c  / total_batch\n",
    "        print('Epoch :' , '%04d' % (epochs +1 ) , 'cost = ', '{:.9f}'.format(avg_cost) )     \n",
    "    \n",
    "    print(\"Learning Finished\")\n",
    "   #Test the model using test sets\n",
    "    print(\"Accuracy : \", accuracy.eval(session=sess , feed_dict={X : mnist.test.images , Y : mnist.test.labels , keep_prob : 1}))     \n",
    "    \n",
    "    #mnist.test의 예제 중 하나를 랜덤으로 읽음\n",
    "    r = random.randint(0, mnist.test.num_examples -1)\n",
    "    print(r)\n",
    "    print(\"Label : \" , sess.run(tf.arg_max(mnist.test.labels[r:r+1] , 1)))  # mnist.test.labels리스트가 one_hot 이기에 arg_max를 이용\n",
    "    print(\"Prediction : \", sess.run(tf.arg_max(hypothesis,1), feed_dict={X : mnist.test.images[r:r+1] , keep_prob : 1} ))\n",
    "    plt.imshow(mnist.test.images[r:r+1].reshape(28,28) , cmap = 'Blues' , interpolation ='nearest')\n",
    "    plt.show()"
   ]
  },
  {
   "cell_type": "code",
   "execution_count": null,
   "metadata": {},
   "outputs": [],
   "source": []
  }
 ],
 "metadata": {
  "kernelspec": {
   "display_name": "Python 3",
   "language": "python",
   "name": "python3"
  },
  "language_info": {
   "codemirror_mode": {
    "name": "ipython",
    "version": 3
   },
   "file_extension": ".py",
   "mimetype": "text/x-python",
   "name": "python",
   "nbconvert_exporter": "python",
   "pygments_lexer": "ipython3",
   "version": "3.6.8"
  }
 },
 "nbformat": 4,
 "nbformat_minor": 2
}
