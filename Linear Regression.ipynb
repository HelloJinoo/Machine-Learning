{
 "cells": [
  {
   "cell_type": "code",
   "execution_count": 19,
   "metadata": {},
   "outputs": [],
   "source": [
    "import tensorflow as tf"
   ]
  },
  {
   "cell_type": "code",
   "execution_count": 21,
   "metadata": {},
   "outputs": [],
   "source": [
    "x_train = [1,2,3] \n",
    "y_train = [1,2,3]"
   ]
  },
  {
   "cell_type": "code",
   "execution_count": 23,
   "metadata": {},
   "outputs": [],
   "source": [
    "#random_normal = 랜덤으로 값을 하나 지정 , 배열의 크기만큼, 추가 옵션으로 stddev를 넣어 표준편차를 지정가능\n",
    "W = tf.Variable(tf.random_normal([1]), name=\"weight\")\n",
    "b = tf.Variable(tf.random_normal([1]), name=\"bias\")"
   ]
  },
  {
   "cell_type": "code",
   "execution_count": 24,
   "metadata": {},
   "outputs": [],
   "source": [
    "# 가설설정\n",
    "hypothesis = W * x_train + b "
   ]
  },
  {
   "cell_type": "code",
   "execution_count": 28,
   "metadata": {},
   "outputs": [],
   "source": [
    "# cost function\n",
    "# cost > 전체 <가설 - y>을 제곱하여 더한 후 m으로 나눈 평균. -> 계산 된 값이 아닌 그래프형태(2차방정식)가 됨. tensorflow는 실행을 위해서는\n",
    "# session이라는 객체를 사용하여 실행시켜야함!!\n",
    "cost = tf.reduce_mean(tf.square(hypothesis - y_train))"
   ]
  },
  {
   "cell_type": "code",
   "execution_count": 29,
   "metadata": {
    "scrolled": true
   },
   "outputs": [],
   "source": [
    "#경사하강법. step = 0.01로 지정\n",
    "optimizer = tf.train.GradientDescentOptimizer(learning_rate = 0.01) "
   ]
  },
  {
   "cell_type": "code",
   "execution_count": 31,
   "metadata": {},
   "outputs": [],
   "source": [
    "#경사하강법을 이용하여 cost를 작게하는 train을 구함\n",
    "train = optimizer.minimize(cost)"
   ]
  },
  {
   "cell_type": "code",
   "execution_count": 32,
   "metadata": {},
   "outputs": [],
   "source": [
    "# Session객체 생성\n",
    "sess = tf.Session()\n",
    "\n",
    "#tf.Variable을 사용하기위해서는 써줘야함....\n",
    "sess.run(tf.global_variables_initializer()) "
   ]
  },
  {
   "cell_type": "code",
   "execution_count": 38,
   "metadata": {},
   "outputs": [
    {
     "name": "stdout",
     "output_type": "stream",
     "text": [
      "0 3.0695446e-12 [0.99999785] [4.3505734e-06]\n",
      "20 3.0695446e-12 [0.99999785] [4.3505734e-06]\n",
      "40 3.0695446e-12 [0.99999785] [4.3505734e-06]\n",
      "60 3.0695446e-12 [0.99999785] [4.3505734e-06]\n",
      "80 3.0695446e-12 [0.99999785] [4.3505734e-06]\n",
      "100 3.0695446e-12 [0.99999785] [4.3505734e-06]\n",
      "120 3.0695446e-12 [0.99999785] [4.3505734e-06]\n",
      "140 3.0695446e-12 [0.99999785] [4.3505734e-06]\n",
      "160 3.0695446e-12 [0.99999785] [4.3505734e-06]\n",
      "180 3.0695446e-12 [0.99999785] [4.3505734e-06]\n"
     ]
    }
   ],
   "source": [
    "for step in range(200) :\n",
    "    sess.run(train)\n",
    "    if step % 20 == 0 :\n",
    "        print(step  , sess.run(cost) , sess.run(W) , sess.run(b))"
   ]
  },
  {
   "cell_type": "code",
   "execution_count": null,
   "metadata": {},
   "outputs": [],
   "source": []
  }
 ],
 "metadata": {
  "kernelspec": {
   "display_name": "Python 3",
   "language": "python",
   "name": "python3"
  },
  "language_info": {
   "codemirror_mode": {
    "name": "ipython",
    "version": 3
   },
   "file_extension": ".py",
   "mimetype": "text/x-python",
   "name": "python",
   "nbconvert_exporter": "python",
   "pygments_lexer": "ipython3",
   "version": "3.6.8"
  }
 },
 "nbformat": 4,
 "nbformat_minor": 2
}
